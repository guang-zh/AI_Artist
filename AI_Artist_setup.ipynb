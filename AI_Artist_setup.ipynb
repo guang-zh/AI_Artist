{
 "cells": [
  {
   "cell_type": "code",
   "execution_count": 1,
   "metadata": {},
   "outputs": [
    {
     "name": "stdout",
     "output_type": "stream",
     "text": [
      "Requirement already satisfied: Scipy in c:\\programdata\\anaconda3\\lib\\site-packages (1.5.2)\n",
      "Requirement already satisfied: numpy>=1.14.5 in c:\\programdata\\anaconda3\\lib\\site-packages (from Scipy) (1.19.2)\n"
     ]
    }
   ],
   "source": [
    "# Set up Environments and Libraries\n",
    "!pip install Scipy"
   ]
  },
  {
   "cell_type": "code",
   "execution_count": 2,
   "metadata": {
    "scrolled": true
   },
   "outputs": [
    {
     "ename": "SyntaxError",
     "evalue": "invalid syntax (<ipython-input-2-aebae7197979>, line 1)",
     "output_type": "error",
     "traceback": [
      "\u001b[1;36m  File \u001b[1;32m\"<ipython-input-2-aebae7197979>\"\u001b[1;36m, line \u001b[1;32m1\u001b[0m\n\u001b[1;33m    python Network.py --base_image_path photo-moka.jpeg --style_reference_image_path painting-starrynight.jpg --result_prefix pp-mokastar\u001b[0m\n\u001b[1;37m           ^\u001b[0m\n\u001b[1;31mSyntaxError\u001b[0m\u001b[1;31m:\u001b[0m invalid syntax\n"
     ]
    }
   ],
   "source": [
    "python Network.py --base_image_path photo-moka.jpeg --style_reference_image_path painting-starrynight.jpg --result_prefix pp-mokastar"
   ]
  },
  {
   "cell_type": "code",
   "execution_count": 21,
   "metadata": {},
   "outputs": [],
   "source": [
    "from scipy import optimize"
   ]
  },
  {
   "cell_type": "code",
   "execution_count": 22,
   "metadata": {},
   "outputs": [],
   "source": [
    "from scipy import misc"
   ]
  },
  {
   "cell_type": "code",
   "execution_count": 23,
   "metadata": {},
   "outputs": [
    {
     "ename": "ImportError",
     "evalue": "cannot import name 'fmin_l_b' from 'scipy.optimize' (C:\\ProgramData\\Anaconda3\\lib\\site-packages\\scipy\\optimize\\__init__.py)",
     "output_type": "error",
     "traceback": [
      "\u001b[1;31m---------------------------------------------------------------------------\u001b[0m",
      "\u001b[1;31mImportError\u001b[0m                               Traceback (most recent call last)",
      "\u001b[1;32m<ipython-input-23-5456e3f920b8>\u001b[0m in \u001b[0;36m<module>\u001b[1;34m\u001b[0m\n\u001b[1;32m----> 1\u001b[1;33m \u001b[1;32mfrom\u001b[0m \u001b[0mscipy\u001b[0m\u001b[1;33m.\u001b[0m\u001b[0moptimize\u001b[0m \u001b[1;32mimport\u001b[0m \u001b[0mfmin_l_b\u001b[0m\u001b[1;33m\u001b[0m\u001b[1;33m\u001b[0m\u001b[0m\n\u001b[0m\u001b[0;32m      2\u001b[0m \u001b[1;32mfrom\u001b[0m \u001b[0mscipy\u001b[0m\u001b[1;33m.\u001b[0m\u001b[0mmisc\u001b[0m \u001b[1;32mimport\u001b[0m \u001b[0mimread\u001b[0m\u001b[1;33m,\u001b[0m \u001b[0mimresize\u001b[0m\u001b[1;33m,\u001b[0m \u001b[0mimsavefgs_b\u001b[0m\u001b[1;33m\u001b[0m\u001b[1;33m\u001b[0m\u001b[0m\n\u001b[0;32m      3\u001b[0m \u001b[1;32mfrom\u001b[0m \u001b[0msklearn\u001b[0m\u001b[1;33m.\u001b[0m\u001b[0mpreprocessing\u001b[0m \u001b[1;32mimport\u001b[0m \u001b[0mnormalize\u001b[0m\u001b[1;33m\u001b[0m\u001b[1;33m\u001b[0m\u001b[0m\n\u001b[0;32m      4\u001b[0m \u001b[1;32mimport\u001b[0m \u001b[0mnumpy\u001b[0m \u001b[1;32mas\u001b[0m \u001b[0mnp\u001b[0m\u001b[1;33m\u001b[0m\u001b[1;33m\u001b[0m\u001b[0m\n\u001b[0;32m      5\u001b[0m \u001b[1;32mimport\u001b[0m \u001b[0mtime\u001b[0m\u001b[1;33m\u001b[0m\u001b[1;33m\u001b[0m\u001b[0m\n",
      "\u001b[1;31mImportError\u001b[0m: cannot import name 'fmin_l_b' from 'scipy.optimize' (C:\\ProgramData\\Anaconda3\\lib\\site-packages\\scipy\\optimize\\__init__.py)"
     ]
    }
   ],
   "source": [
    "\n",
    "from scipy.optimize import fmin_l_b\n",
    "from scipy.misc import imread, imresize, imsavefgs_b\n",
    "from sklearn.preprocessing import normalize\n",
    "import numpy as np\n",
    "import time\n",
    "import os\n",
    "import argparse\n",
    "import h5py\n",
    "\n",
    "from keras.models import Sequential\n",
    "from keras.layers.convolutional import Convolution2D, ZeroPadding2D, AveragePooling2D\n",
    "from keras import backend as K"
   ]
  },
  {
   "cell_type": "code",
   "execution_count": 9,
   "metadata": {},
   "outputs": [],
   "source": [
    "import scipy"
   ]
  },
  {
   "cell_type": "code",
   "execution_count": 11,
   "metadata": {},
   "outputs": [],
   "source": [
    "import h5py"
   ]
  },
  {
   "cell_type": "code",
   "execution_count": 14,
   "metadata": {},
   "outputs": [
    {
     "name": "stdout",
     "output_type": "stream",
     "text": [
      "Collecting keras\n",
      "  Downloading Keras-2.4.3-py2.py3-none-any.whl (36 kB)\n",
      "Requirement already satisfied: h5py in c:\\programdata\\anaconda3\\lib\\site-packages (from keras) (2.10.0)\n",
      "Requirement already satisfied: pyyaml in c:\\programdata\\anaconda3\\lib\\site-packages (from keras) (5.3.1)\n",
      "Requirement already satisfied: numpy>=1.9.1 in c:\\programdata\\anaconda3\\lib\\site-packages (from keras) (1.19.2)\n",
      "Requirement already satisfied: scipy>=0.14 in c:\\programdata\\anaconda3\\lib\\site-packages (from keras) (1.5.2)\n",
      "Requirement already satisfied: six in c:\\programdata\\anaconda3\\lib\\site-packages (from h5py->keras) (1.15.0)\n",
      "Installing collected packages: keras\n",
      "Successfully installed keras-2.4.3\n"
     ]
    }
   ],
   "source": [
    "!pip install keras"
   ]
  },
  {
   "cell_type": "code",
   "execution_count": 15,
   "metadata": {},
   "outputs": [
    {
     "ename": "ImportError",
     "evalue": "Keras requires TensorFlow 2.2 or higher. Install TensorFlow via `pip install tensorflow`",
     "output_type": "error",
     "traceback": [
      "\u001b[1;31m---------------------------------------------------------------------------\u001b[0m",
      "\u001b[1;31mModuleNotFoundError\u001b[0m                       Traceback (most recent call last)",
      "\u001b[1;32mC:\\ProgramData\\Anaconda3\\lib\\site-packages\\keras\\__init__.py\u001b[0m in \u001b[0;36m<module>\u001b[1;34m\u001b[0m\n\u001b[0;32m      2\u001b[0m \u001b[1;32mtry\u001b[0m\u001b[1;33m:\u001b[0m\u001b[1;33m\u001b[0m\u001b[1;33m\u001b[0m\u001b[0m\n\u001b[1;32m----> 3\u001b[1;33m     \u001b[1;32mfrom\u001b[0m \u001b[0mtensorflow\u001b[0m\u001b[1;33m.\u001b[0m\u001b[0mkeras\u001b[0m\u001b[1;33m.\u001b[0m\u001b[0mlayers\u001b[0m\u001b[1;33m.\u001b[0m\u001b[0mexperimental\u001b[0m\u001b[1;33m.\u001b[0m\u001b[0mpreprocessing\u001b[0m \u001b[1;32mimport\u001b[0m \u001b[0mRandomRotation\u001b[0m\u001b[1;33m\u001b[0m\u001b[1;33m\u001b[0m\u001b[0m\n\u001b[0m\u001b[0;32m      4\u001b[0m \u001b[1;32mexcept\u001b[0m \u001b[0mImportError\u001b[0m\u001b[1;33m:\u001b[0m\u001b[1;33m\u001b[0m\u001b[1;33m\u001b[0m\u001b[0m\n",
      "\u001b[1;31mModuleNotFoundError\u001b[0m: No module named 'tensorflow'",
      "\nDuring handling of the above exception, another exception occurred:\n",
      "\u001b[1;31mImportError\u001b[0m                               Traceback (most recent call last)",
      "\u001b[1;32m<ipython-input-15-3f4da6fdb1c3>\u001b[0m in \u001b[0;36m<module>\u001b[1;34m\u001b[0m\n\u001b[1;32m----> 1\u001b[1;33m \u001b[1;32mimport\u001b[0m \u001b[0mkeras\u001b[0m\u001b[1;33m\u001b[0m\u001b[1;33m\u001b[0m\u001b[0m\n\u001b[0m\u001b[0;32m      2\u001b[0m \u001b[1;32mfrom\u001b[0m \u001b[0mkeras\u001b[0m\u001b[1;33m.\u001b[0m\u001b[0mmodels\u001b[0m \u001b[1;32mimport\u001b[0m \u001b[0mSequential\u001b[0m\u001b[1;33m\u001b[0m\u001b[1;33m\u001b[0m\u001b[0m\n",
      "\u001b[1;32mC:\\ProgramData\\Anaconda3\\lib\\site-packages\\keras\\__init__.py\u001b[0m in \u001b[0;36m<module>\u001b[1;34m\u001b[0m\n\u001b[0;32m      3\u001b[0m     \u001b[1;32mfrom\u001b[0m \u001b[0mtensorflow\u001b[0m\u001b[1;33m.\u001b[0m\u001b[0mkeras\u001b[0m\u001b[1;33m.\u001b[0m\u001b[0mlayers\u001b[0m\u001b[1;33m.\u001b[0m\u001b[0mexperimental\u001b[0m\u001b[1;33m.\u001b[0m\u001b[0mpreprocessing\u001b[0m \u001b[1;32mimport\u001b[0m \u001b[0mRandomRotation\u001b[0m\u001b[1;33m\u001b[0m\u001b[1;33m\u001b[0m\u001b[0m\n\u001b[0;32m      4\u001b[0m \u001b[1;32mexcept\u001b[0m \u001b[0mImportError\u001b[0m\u001b[1;33m:\u001b[0m\u001b[1;33m\u001b[0m\u001b[1;33m\u001b[0m\u001b[0m\n\u001b[1;32m----> 5\u001b[1;33m     raise ImportError(\n\u001b[0m\u001b[0;32m      6\u001b[0m         \u001b[1;34m'Keras requires TensorFlow 2.2 or higher. '\u001b[0m\u001b[1;33m\u001b[0m\u001b[1;33m\u001b[0m\u001b[0m\n\u001b[0;32m      7\u001b[0m         'Install TensorFlow via `pip install tensorflow`')\n",
      "\u001b[1;31mImportError\u001b[0m: Keras requires TensorFlow 2.2 or higher. Install TensorFlow via `pip install tensorflow`"
     ]
    }
   ],
   "source": [
    "import keras\n",
    "from keras.models import Sequential"
   ]
  },
  {
   "cell_type": "code",
   "execution_count": 16,
   "metadata": {},
   "outputs": [
    {
     "name": "stdout",
     "output_type": "stream",
     "text": [
      "Collecting tensorflow\n",
      "  Downloading tensorflow-2.4.1-cp38-cp38-win_amd64.whl (370.7 MB)\n",
      "Collecting termcolor~=1.1.0\n",
      "  Downloading termcolor-1.1.0.tar.gz (3.9 kB)\n",
      "Collecting tensorflow-estimator<2.5.0,>=2.4.0\n",
      "  Downloading tensorflow_estimator-2.4.0-py2.py3-none-any.whl (462 kB)\n",
      "Requirement already satisfied: numpy~=1.19.2 in c:\\programdata\\anaconda3\\lib\\site-packages (from tensorflow) (1.19.2)\n",
      "Requirement already satisfied: typing-extensions~=3.7.4 in c:\\programdata\\anaconda3\\lib\\site-packages (from tensorflow) (3.7.4.3)\n",
      "Collecting google-pasta~=0.2\n",
      "  Downloading google_pasta-0.2.0-py3-none-any.whl (57 kB)\n",
      "Collecting keras-preprocessing~=1.1.2\n"
     ]
    },
    {
     "name": "stderr",
     "output_type": "stream",
     "text": [
      "ERROR: Could not install packages due to an EnvironmentError: [WinError 5] Access is denied: 'c:\\\\programdata\\\\anaconda3\\\\lib\\\\site-packages\\\\wrapt-1.11.2.dist-info\\\\INSTALLER'\n",
      "Consider using the `--user` option or check the permissions.\n",
      "\n"
     ]
    },
    {
     "name": "stdout",
     "output_type": "stream",
     "text": [
      "  Downloading Keras_Preprocessing-1.1.2-py2.py3-none-any.whl (42 kB)\n",
      "Collecting tensorboard~=2.4\n",
      "  Downloading tensorboard-2.4.1-py3-none-any.whl (10.6 MB)\n",
      "Collecting opt-einsum~=3.3.0\n",
      "  Downloading opt_einsum-3.3.0-py3-none-any.whl (65 kB)\n",
      "Requirement already satisfied: h5py~=2.10.0 in c:\\programdata\\anaconda3\\lib\\site-packages (from tensorflow) (2.10.0)\n",
      "Requirement already satisfied: six~=1.15.0 in c:\\programdata\\anaconda3\\lib\\site-packages (from tensorflow) (1.15.0)\n",
      "Requirement already satisfied: wheel~=0.35 in c:\\programdata\\anaconda3\\lib\\site-packages (from tensorflow) (0.35.1)\n",
      "Collecting gast==0.3.3\n",
      "  Downloading gast-0.3.3-py2.py3-none-any.whl (9.7 kB)\n",
      "Collecting flatbuffers~=1.12.0\n",
      "  Downloading flatbuffers-1.12-py2.py3-none-any.whl (15 kB)\n",
      "Collecting wrapt~=1.12.1\n",
      "  Downloading wrapt-1.12.1.tar.gz (27 kB)\n",
      "Collecting grpcio~=1.32.0\n",
      "  Downloading grpcio-1.32.0-cp38-cp38-win_amd64.whl (2.6 MB)\n",
      "Collecting absl-py~=0.10\n",
      "  Downloading absl_py-0.11.0-py3-none-any.whl (127 kB)\n",
      "Collecting protobuf>=3.9.2\n",
      "  Downloading protobuf-3.14.0-py2.py3-none-any.whl (173 kB)\n",
      "Collecting astunparse~=1.6.3\n",
      "  Downloading astunparse-1.6.3-py2.py3-none-any.whl (12 kB)\n",
      "Requirement already satisfied: werkzeug>=0.11.15 in c:\\programdata\\anaconda3\\lib\\site-packages (from tensorboard~=2.4->tensorflow) (1.0.1)\n",
      "Collecting tensorboard-plugin-wit>=1.6.0\n",
      "  Downloading tensorboard_plugin_wit-1.8.0-py3-none-any.whl (781 kB)\n",
      "Collecting google-auth-oauthlib<0.5,>=0.4.1\n",
      "  Downloading google_auth_oauthlib-0.4.2-py2.py3-none-any.whl (18 kB)\n",
      "Collecting google-auth<2,>=1.6.3\n",
      "  Downloading google_auth-1.24.0-py2.py3-none-any.whl (114 kB)\n",
      "Requirement already satisfied: requests<3,>=2.21.0 in c:\\programdata\\anaconda3\\lib\\site-packages (from tensorboard~=2.4->tensorflow) (2.24.0)\n",
      "Collecting markdown>=2.6.8\n",
      "  Downloading Markdown-3.3.3-py3-none-any.whl (96 kB)\n",
      "Requirement already satisfied: setuptools>=41.0.0 in c:\\programdata\\anaconda3\\lib\\site-packages (from tensorboard~=2.4->tensorflow) (50.3.1.post20201107)\n",
      "Collecting requests-oauthlib>=0.7.0\n",
      "  Downloading requests_oauthlib-1.3.0-py2.py3-none-any.whl (23 kB)\n",
      "Collecting cachetools<5.0,>=2.0.0\n",
      "  Downloading cachetools-4.2.1-py3-none-any.whl (12 kB)\n",
      "Collecting rsa<5,>=3.1.4; python_version >= \"3.6\"\n",
      "  Downloading rsa-4.7-py3-none-any.whl (34 kB)\n",
      "Collecting pyasn1-modules>=0.2.1\n",
      "  Downloading pyasn1_modules-0.2.8-py2.py3-none-any.whl (155 kB)\n",
      "Requirement already satisfied: certifi>=2017.4.17 in c:\\programdata\\anaconda3\\lib\\site-packages (from requests<3,>=2.21.0->tensorboard~=2.4->tensorflow) (2020.6.20)\n",
      "Requirement already satisfied: urllib3!=1.25.0,!=1.25.1,<1.26,>=1.21.1 in c:\\programdata\\anaconda3\\lib\\site-packages (from requests<3,>=2.21.0->tensorboard~=2.4->tensorflow) (1.25.11)\n",
      "Requirement already satisfied: chardet<4,>=3.0.2 in c:\\programdata\\anaconda3\\lib\\site-packages (from requests<3,>=2.21.0->tensorboard~=2.4->tensorflow) (3.0.4)\n",
      "Requirement already satisfied: idna<3,>=2.5 in c:\\programdata\\anaconda3\\lib\\site-packages (from requests<3,>=2.21.0->tensorboard~=2.4->tensorflow) (2.10)\n",
      "Collecting oauthlib>=3.0.0\n",
      "  Downloading oauthlib-3.1.0-py2.py3-none-any.whl (147 kB)\n",
      "Collecting pyasn1>=0.1.3\n",
      "  Downloading pyasn1-0.4.8-py2.py3-none-any.whl (77 kB)\n",
      "Building wheels for collected packages: termcolor, wrapt\n",
      "  Building wheel for termcolor (setup.py): started\n",
      "  Building wheel for termcolor (setup.py): finished with status 'done'\n",
      "  Created wheel for termcolor: filename=termcolor-1.1.0-py3-none-any.whl size=4835 sha256=8bd039433cb4ea7007de78e9237dbe97cc0915d733311e146762064773de3249\n",
      "  Stored in directory: c:\\users\\1\\appdata\\local\\pip\\cache\\wheels\\a0\\16\\9c\\5473df82468f958445479c59e784896fa24f4a5fc024b0f501\n",
      "  Building wheel for wrapt (setup.py): started\n",
      "  Building wheel for wrapt (setup.py): finished with status 'done'\n",
      "  Created wheel for wrapt: filename=wrapt-1.12.1-cp38-cp38-win_amd64.whl size=33632 sha256=bb7fdcd7a62b7c46938091fe15f7d30b08976b79063dfb8a96ac93a3181bcf2e\n",
      "  Stored in directory: c:\\users\\1\\appdata\\local\\pip\\cache\\wheels\\5f\\fd\\9e\\b6cf5890494cb8ef0b5eaff72e5d55a70fb56316007d6dfe73\n",
      "Successfully built termcolor wrapt\n",
      "Installing collected packages: termcolor, tensorflow-estimator, google-pasta, keras-preprocessing, grpcio, tensorboard-plugin-wit, protobuf, cachetools, pyasn1, rsa, pyasn1-modules, google-auth, oauthlib, requests-oauthlib, google-auth-oauthlib, absl-py, markdown, tensorboard, opt-einsum, gast, flatbuffers, wrapt, astunparse, tensorflow\n",
      "  Attempting uninstall: wrapt\n",
      "    Found existing installation: wrapt 1.11.2\n",
      "    Uninstalling wrapt-1.11.2:\n"
     ]
    }
   ],
   "source": [
    "!pip install tensorflow"
   ]
  },
  {
   "cell_type": "code",
   "execution_count": 19,
   "metadata": {},
   "outputs": [
    {
     "name": "stdout",
     "output_type": "stream",
     "text": [
      "\n",
      "Please wait a moment while I gather a list of all available modules...\n",
      "\n"
     ]
    },
    {
     "name": "stderr",
     "output_type": "stream",
     "text": [
      "C:\\ProgramData\\Anaconda3\\lib\\site-packages\\Bio\\Crystal\\__init__.py:40: BiopythonDeprecationWarning: Bio.Crystal has been deprecated, and we intend to remove it in a future release of Biopython. Please use Bio.PDB instead to parse NDB files.\n",
      "  warnings.warn(\n",
      "C:\\ProgramData\\Anaconda3\\lib\\site-packages\\Bio\\FSSP\\__init__.py:30: BiopythonDeprecationWarning: Bio.FSSP has been deprecated, and we intend to remove it in a future release of Biopython. Please contact the Biopython developers if you need this module.\n",
      "  warnings.warn(\n",
      "C:\\ProgramData\\Anaconda3\\lib\\site-packages\\Bio\\Statistics\\__init__.py:11: BiopythonDeprecationWarning: Bio.Statistics has been deprecated, and we intend to remove it in a future release of Biopython.\n",
      "  warnings.warn(\n",
      "C:\\ProgramData\\Anaconda3\\lib\\site-packages\\Bio\\SubsMat\\__init__.py:126: BiopythonDeprecationWarning: Bio.SubsMat has been deprecated, and we intend to remove it in a future release of Biopython. As an alternative, please consider using Bio.Align.substitution_matrices as a replacement, and contact the Biopython developers if you still need the Bio.SubsMat module.\n",
      "  warnings.warn(\n",
      "C:\\ProgramData\\Anaconda3\\lib\\site-packages\\Bio\\codonalign\\__init__.py:23: BiopythonExperimentalWarning: Bio.codonalign is an experimental module which may undergo significant changes prior to its future official release.\n",
      "  warnings.warn(\n",
      "C:\\ProgramData\\Anaconda3\\lib\\site-packages\\Bio\\phenotype\\__init__.py:93: BiopythonExperimentalWarning: Bio.phenotype is an experimental submodule which may undergo significant changes prior to its future official release.\n",
      "  warnings.warn(\n",
      "C:\\ProgramData\\Anaconda3\\lib\\site-packages\\IPython\\kernel\\__init__.py:12: ShimWarning: The `IPython.kernel` package has been deprecated since IPython 4.0.You should import from ipykernel or jupyter_client instead.\n",
      "  warn(\"The `IPython.kernel` package has been deprecated since IPython 4.0.\"\n",
      "C:\\ProgramData\\Anaconda3\\lib\\pkgutil.py:92: MatplotlibDeprecationWarning: \n",
      "The matplotlib.compat module was deprecated in Matplotlib 3.3 and will be removed two minor releases later.\n",
      "  __import__(info.name)\n",
      "C:\\ProgramData\\Anaconda3\\lib\\site-packages\\nltk\\twitter\\__init__.py:21: UserWarning: The twython library has not been installed. Some functionality from the twitter package will not be available.\n",
      "  warnings.warn(\n",
      "C:\\ProgramData\\Anaconda3\\lib\\site-packages\\skimage\\viewer\\utils\\__init__.py:1: UserWarning: Recommended matplotlib backend is `Agg` for full skimage.viewer functionality.\n",
      "  from .core import *\n",
      "C:\\ProgramData\\Anaconda3\\lib\\site-packages\\qtawesome\\iconic_font.py:311: UserWarning: You need to have a running QApplication to use QtAwesome!\n",
      "  warnings.warn(\"You need to have a running \"\n"
     ]
    },
    {
     "name": "stdout",
     "output_type": "stream",
     "text": [
      "_cffi_ext.c\r\n",
      "C:\\ProgramData\\Anaconda3\\lib\\site-packages\\zmq\\backend\\cffi\\__pycache__\\_cffi_ext.c(268): fatal error C1083: Cannot open include file: 'zmq.h': No such file or directory\r\n"
     ]
    },
    {
     "name": "stderr",
     "output_type": "stream",
     "text": [
      "C:\\ProgramData\\Anaconda3\\lib\\pkgutil.py:107: VisibleDeprecationWarning: zmq.eventloop.minitornado is deprecated in pyzmq 14.0 and will be removed.\n",
      "    Install tornado itself to use zmq with the tornado IOLoop.\n",
      "    \n",
      "  yield from walk_packages(path, info.name+'.', onerror)\n"
     ]
    },
    {
     "name": "stdout",
     "output_type": "stream",
     "text": [
      "Bio                 brain_ssl           mailbox             smtpd\n",
      "BioSQL              brain_subprocess    mailcap             smtplib\n",
      "Cython              brain_threading     markdown            sndhdr\n",
      "IPython             brain_typing        markupsafe          snowballstemmer\n",
      "Network             brain_uuid          marshal             socket\n",
      "OpenSSL             brotli              math                socketserver\n",
      "PIL                 bs4                 matplotlib          socks\n",
      "PyQt5               builtins            mccabe              sockshandler\n",
      "__future__          bz2                 menuinst            sortedcollections\n",
      "_abc                cProfile            mimetypes           sortedcontainers\n",
      "_ast                cachecontrol        mistune             soupsieve\n",
      "_asyncio            cachetools          mkl                 sphinx\n",
      "_bisect             calendar            mkl_fft             sphinxcontrib\n",
      "_blake2             certifi             mkl_random          spyder\n",
      "_bootlocale         cffi                mmap                spyder_kernels\n",
      "_bz2                cgi                 mmapfile            spyder_unittest\n",
      "_cffi_backend       cgitb               mmsystem            sqlalchemy\n",
      "_codecs             chardet             mock                sqlite3\n",
      "_codecs_cn          chunk               modulefinder        sre_compile\n",
      "_codecs_hk          click               more_itertools      sre_constants\n",
      "_codecs_iso2022     cloudpickle         mpmath              sre_parse\n",
      "_codecs_jp          clyent              msgpack             ssl\n",
      "_codecs_kr          cmath               msilib              sspi\n",
      "_codecs_tw          cmd                 msvcrt              sspicon\n",
      "_collections        code                multipledispatch    stat\n",
      "_collections_abc    codecs              multiprocessing     statistics\n",
      "_compat_pickle      codeop              muscle              statsmodels\n",
      "_compression        collections         nacl                storemagic\n",
      "_contextvars        colorama            natsort             string\n",
      "_csv                colorsys            navigator_updater   stringprep\n",
      "_ctypes             commctrl            nbclient            struct\n",
      "_ctypes_test        compileall          nbconvert           subprocess\n",
      "_datetime           comtypes            nbformat            sunau\n",
      "_decimal            concepts            nest_asyncio        symbol\n",
      "_distutils_hack     concurrent          netbios             sympy\n",
      "_dummy_thread       conda               netrc               sympyprinting\n",
      "_elementtree        conda_build         networkx            symtable\n",
      "_functools          conda_env           nltk                sys\n",
      "_hashlib            conda_package_handling nntplib             sysconfig\n",
      "_heapq              conda_verify        nose                tables\n",
      "_imp                configparser        notebook            tabnanny\n",
      "_io                 contextlib          nt                  tarfile\n",
      "_json               contextlib2         ntpath              tblib\n",
      "_locale             contextvars         ntsecuritycon       telnetlib\n",
      "_lsprof             copy                nturl2path          tempfile\n",
      "_lzma               copyreg             numba               tensorboard\n",
      "_markupbase         crypt               numbers             tensorboard_plugin_wit\n",
      "_md5                cryptography        numexpr             tensorflow_estimator\n",
      "_msi                csv                 numpy               termcolor\n",
      "_multibytecodec     ctypes              numpydoc            terminado\n",
      "_multiprocessing    curl                oauthlib            test\n",
      "_nsis               curses              odbc                test_data\n",
      "_opcode             cwp                 olefile             test_pycosat\n",
      "_operator           cycler              opcode              testpath\n",
      "_osx_support        cython              openpyxl            tests\n",
      "_overlapped         cythonmagic         operator            textwrap\n",
      "_pickle             cytoolz             opt_einsum          this\n",
      "_py_abc             dask                optparse            threading\n",
      "_pydecimal          dataclasses         os                  threadpoolctl\n",
      "_pyio               datetime            packaging           tifffile\n",
      "_pyrsistent_version dateutil            pandas              time\n",
      "_pytest             dbi                 pandocfilters       timeit\n",
      "_queue              dbm                 paramiko            timer\n",
      "_random             dde                 parser              tkinter\n",
      "_sha1               decimal             parso               tlz\n",
      "_sha256             decorator           partd               token\n",
      "_sha3               defusedxml          past                tokenize\n",
      "_sha512             diff_match_patch    pasta               toml\n",
      "_signal             difflib             path                toolz\n",
      "_sitebuiltins       dis                 pathlib             tornado\n",
      "_socket             distributed         pathlib2            tqdm\n",
      "_sqlite3            distutils           pathtools           trace\n",
      "_sre                docs                patsy               traceback\n",
      "_ssl                doctest             pdb                 tracemalloc\n",
      "_stat               docutils            pep8                traitlets\n",
      "_statistics         dummy_threading     perfmon             tty\n",
      "_string             easy_install        pexpect             turtle\n",
      "_strptime           email               pickle              turtledemo\n",
      "_struct             encodings           pickleshare         types\n",
      "_symtable           ensurepip           pickletools         typing\n",
      "_system_path        entrypoints         pip                 typing_extensions\n",
      "_testbuffer         enum                pipes               ujson\n",
      "_testcapi           errno               pkg_resources       unicodecsv\n",
      "_testconsole        et_xmlfile          pkginfo             unicodedata\n",
      "_testimportmultiple fastcache           pkgutil             unittest\n",
      "_testinternalcapi   faulthandler        platform            urllib\n",
      "_testmultiphase     features            plistlib            urllib3\n",
      "_thread             filecmp             pluggy              uu\n",
      "_threading_local    fileconfig          ply                 uuid\n",
      "_tkinter            fileinput           poplib              venv\n",
      "_tracemalloc        filelock            posixpath           warnings\n",
      "_warnings           flake8              pprint              watchdog\n",
      "_weakref            flask               profile             wave\n",
      "_weakrefset         flatbuffers         prometheus_client   wcwidth\n",
      "_win32sysloader     fnmatch             prompt_toolkit      weakref\n",
      "_winapi             formatter           pstats              webbrowser\n",
      "_winxptheme         fractions           psutil              webencodings\n",
      "_xxsubinterpreters  fsspec              pty                 werkzeug\n",
      "_yaml               ftplib              pvectorc            wheel\n",
      "abc                 functools           py                  widgetsnbextension\n",
      "absl                future              py_compile          win2kras\n",
      "adodbapi            gast                pyasn1              win32api\n",
      "afxres              gc                  pyasn1_modules      win32clipboard\n",
      "aifc                genericpath         pyclbr              win32com\n",
      "alabaster           getopt              pycodestyle         win32con\n",
      "anaconda_navigator  getpass             pycosat             win32console\n",
      "anaconda_project    gettext             pycparser           win32cred\n",
      "antigravity         gevent              pycurl              win32crypt\n",
      "argh                glob                pydoc               win32cryptcon\n",
      "argon2              glob2               pydoc_data          win32ctypes\n",
      "argparse            google_auth_oauthlib pydocstyle          win32event\n",
      "array               graphviz            pyexpat             win32evtlog\n",
      "asn1crypto          greenlet            pyflakes            win32evtlogutil\n",
      "ast                 grpc                pygments            win32file\n",
      "astroid             gzip                pylab               win32gui\n",
      "astropy             h5py                pylint              win32gui_struct\n",
      "async_generator     hashlib             pyls                win32help\n"
     ]
    },
    {
     "name": "stdout",
     "output_type": "stream",
     "text": [
      "asynchat            hdmedians           pyls_jsonrpc        win32inet\n",
      "asyncio             heapdict            pyodbc              win32inetcon\n",
      "asyncore            heapq               pyparsing           win32job\n",
      "atexit              hmac                pyreadline          win32lz\n",
      "atomicwrites        html                pyrsistent          win32net\n",
      "attr                html5lib            pytest              win32netcon\n",
      "audioop             http                pythoncom           win32pdh\n",
      "autopep8            idlelib             pytz                win32pdhquery\n",
      "autoreload          idna                pywin               win32pdhutil\n",
      "babel               imageio             pywin32_bootstrap   win32pipe\n",
      "backcall            imagesize           pywin32_testutil    win32print\n",
      "backports           imaplib             pywintypes          win32process\n",
      "base64              imghdr              pywt                win32profile\n",
      "bcrypt              imp                 pyximport           win32ras\n",
      "bdb                 importlib           qdarkstyle          win32rcparser\n",
      "benchmarks          importlib_metadata  qtawesome           win32security\n",
      "binascii            iniconfig           qtconsole           win32service\n",
      "binhex              inspect             qtpy                win32serviceutil\n",
      "binstar_client      intervaltree        queue               win32timezone\n",
      "bisect              io                  quopri              win32trace\n",
      "bitarray            ipaddress           random              win32traceutil\n",
      "bitsets             ipykernel           rasutil             win32transaction\n",
      "bkcharts            ipykernel_launcher  re                  win32ts\n",
      "bleach              ipython_genutils    readline            win32ui\n",
      "bokeh               ipywidgets          regcheck            win32uiole\n",
      "boto                isapi               regex               win32verstamp\n",
      "bottleneck          isort               regutil             win32wnet\n",
      "brain_argparse      isympy              reprlib             win_inet_pton\n",
      "brain_attrs         itertools           requests            win_unicode_console\n",
      "brain_boto3         itsdangerous        requests_oauthlib   wincertstore\n",
      "brain_builtin_inference jdcal               rlcompleter         winerror\n",
      "brain_collections   jedi                rmagic              winioctlcon\n",
      "brain_crypt         jinja2              rope                winnt\n",
      "brain_curses        joblib              rsa                 winperf\n",
      "brain_dataclasses   json                rtree               winpty\n",
      "brain_dateutil      json5               ruamel_yaml         winreg\n",
      "brain_fstrings      jsonschema          run                 winsound\n",
      "brain_functools     jupyter             runpy               winxpgui\n",
      "brain_gi            jupyter_client      sched               winxptheme\n",
      "brain_hashlib       jupyter_console     scipy               wrapt\n",
      "brain_http          jupyter_core        scripts             wsgiref\n",
      "brain_io            jupyterlab          seaborn             xdrlib\n",
      "brain_mechanize     jupyterlab_pygments secrets             xlrd\n",
      "brain_multiprocessing jupyterlab_server   select              xlsxwriter\n",
      "brain_namedtuple_enum keras               selectors           xlwings\n",
      "brain_nose          keras_preprocessing send2trash          xlwt\n",
      "brain_numpy_core_fromnumeric keyring             servicemanager      xml\n",
      "brain_numpy_core_function_base keyword             setuptools          xmlrpc\n",
      "brain_numpy_core_multiarray kiwisolver          shelve              xmltodict\n",
      "brain_numpy_core_numeric lazy_object_proxy   shlex               xxsubtype\n",
      "brain_numpy_core_numerictypes lib2to3             shutil              yaml\n",
      "brain_numpy_core_umath libarchive          signal              yapf\n",
      "brain_numpy_ndarray libfuturize         simplegeneric       yapftests\n",
      "brain_numpy_random_mtrand libpasteurize       singledispatch      zict\n",
      "brain_numpy_utils   lief                singledispatch_helpers zipapp\n",
      "brain_pkg_resources linecache           sip                 zipfile\n",
      "brain_pytest        llvmlite            sipconfig           zipimport\n",
      "brain_qt            locale              sipdistutils        zipp\n",
      "brain_random        locket              site                zlib\n",
      "brain_re            lockfile            six                 zmq\n",
      "brain_responses     logging             skbio               zope\n",
      "brain_scipy_signal  lxml                skimage             \n",
      "brain_six           lzma                sklearn             \n",
      "\n",
      "Enter any module name to get more help.  Or, type \"modules spam\" to search\n",
      "for modules whose name or summary contain the string \"spam\".\n",
      "\n"
     ]
    }
   ],
   "source": [
    "help('modules')"
   ]
  },
  {
   "cell_type": "code",
   "execution_count": null,
   "metadata": {},
   "outputs": [],
   "source": []
  }
 ],
 "metadata": {
  "kernelspec": {
   "display_name": "Python 3",
   "language": "python",
   "name": "python3"
  },
  "language_info": {
   "codemirror_mode": {
    "name": "ipython",
    "version": 3
   },
   "file_extension": ".py",
   "mimetype": "text/x-python",
   "name": "python",
   "nbconvert_exporter": "python",
   "pygments_lexer": "ipython3",
   "version": "3.8.5"
  }
 },
 "nbformat": 4,
 "nbformat_minor": 4
}
